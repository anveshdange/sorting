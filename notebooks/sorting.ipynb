{
 "cells": [
  {
   "cell_type": "code",
   "execution_count": 4,
   "metadata": {},
   "outputs": [
    {
     "name": "stdout",
     "output_type": "stream",
     "text": [
      "[0, 1, 1, 2, 2, 3, 3, 3, 3, 22, 23, 32, 43, 56, 235]\n"
     ]
    }
   ],
   "source": [
    "# code for bubble sort \n",
    "def bubble_sort(arr): \n",
    "    length: int = len(arr) \n",
    "\n",
    "    for i in range(length): \n",
    "        swapped: bool = False\n",
    "        for j in range(0, length-i-1):\n",
    "            if arr[j] > arr[j+1]: \n",
    "                arr[j], arr[j+1] = arr[j+1], arr[j] \n",
    "                swapped = True\n",
    "        if not swapped:break; \n",
    "    return arr\n",
    "\n",
    "p = [43, 56, 22, 1, 0, 23, 1 ,3, 235, 3, 2,3 ,32 ,3 ,2 ] \n",
    "print(bubble_sort(p))"
   ]
  },
  {
   "cell_type": "code",
   "execution_count": 5,
   "metadata": {},
   "outputs": [
    {
     "name": "stdout",
     "output_type": "stream",
     "text": [
      "[0, 1, 1, 2, 2, 3, 3, 3, 3, 22, 23, 32, 43, 56, 235]\n"
     ]
    }
   ],
   "source": [
    "# code for Selecton sort\n",
    "def selection_sort(arr): \n",
    "    length: int = len(arr) \n",
    "\n",
    "    for i in range(length):\n",
    "        min_index: int = i\n",
    "        for j in range(i, length): \n",
    "            if arr[j] < arr[min_index]: \n",
    "                min_index = j\n",
    "        arr[i], arr[min_index] = arr[min_index], arr[i]\n",
    "    \n",
    "    return arr\n",
    "\n",
    "print(selection_sort(p))"
   ]
  },
  {
   "cell_type": "code",
   "execution_count": null,
   "metadata": {},
   "outputs": [],
   "source": []
  }
 ],
 "metadata": {
  "kernelspec": {
   "display_name": "sorting",
   "language": "python",
   "name": "python3"
  },
  "language_info": {
   "codemirror_mode": {
    "name": "ipython",
    "version": 3
   },
   "file_extension": ".py",
   "mimetype": "text/x-python",
   "name": "python",
   "nbconvert_exporter": "python",
   "pygments_lexer": "ipython3",
   "version": "3.11.11"
  }
 },
 "nbformat": 4,
 "nbformat_minor": 2
}
